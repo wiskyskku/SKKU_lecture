{
 "cells": [
  {
   "cell_type": "markdown",
   "metadata": {
    "id": "khi3Ao_M32Dg"
   },
   "source": [
    "# 강의 01 고전 정보와 컴퓨팅\n",
    "\n",
    "이번 실습 강연의 목표 : 기초 논리 회로의 구현, 함수와 클래스 사용법"
   ]
  },
  {
   "cell_type": "code",
   "execution_count": 1,
   "metadata": {
    "colab": {
     "base_uri": "https://localhost:8080/"
    },
    "id": "LbXOlaFm3lTF",
    "outputId": "6ae9d999-93d2-4f6e-a92c-5ba23adc244f"
   },
   "outputs": [
    {
     "name": "stdout",
     "output_type": "stream",
     "text": [
      "a:  True\n",
      "b:  False\n"
     ]
    }
   ],
   "source": [
    "# boolean 변수는 True 또는 False의 값을 가집니다. 1 또는 0으로 표현할 수도 있습니다.\n",
    "a = True\n",
    "b = False\n",
    "print('a: ', a)\n",
    "print('b: ', b)"
   ]
  },
  {
   "cell_type": "code",
   "execution_count": 2,
   "metadata": {
    "colab": {
     "base_uri": "https://localhost:8080/"
    },
    "id": "xWXbz7bD4UnA",
    "outputId": "642ad1bb-f142-496b-b1b4-c96767ccbdb3"
   },
   "outputs": [
    {
     "name": "stdout",
     "output_type": "stream",
     "text": [
      "integer value of a:  1\n",
      "integer value of b:  0\n",
      "boolean value of 1:  True\n",
      "boolean value of 0:  False\n"
     ]
    }
   ],
   "source": [
    "# boolean --> int\n",
    "print('integer value of a: ', int(a))\n",
    "print('integer value of b: ', int(b))\n",
    "\n",
    "# int --> boolean \n",
    "print('boolean value of 1: ', bool(1))\n",
    "print('boolean value of 0: ', bool(0))\n"
   ]
  },
  {
   "cell_type": "markdown",
   "metadata": {
    "id": "AycxY5ji4wtE"
   },
   "source": [
    "## Boolean 연산자의 구현 - 단일 논리 연산자"
   ]
  },
  {
   "cell_type": "code",
   "execution_count": 3,
   "metadata": {
    "colab": {
     "base_uri": "https://localhost:8080/"
    },
    "id": "hXTpCvyl4giQ",
    "outputId": "36765166-bc3c-47af-908f-fec495ce43c1"
   },
   "outputs": [
    {
     "name": "stdout",
     "output_type": "stream",
     "text": [
      "False\n",
      "True\n"
     ]
    }
   ],
   "source": [
    "# NOT 게이트는 boolean 변수 앞에 not을 붙이면 됩니다.\n",
    "print(not a)\n",
    "print(not b)"
   ]
  },
  {
   "cell_type": "code",
   "execution_count": 4,
   "metadata": {
    "id": "NR29Zl_a64GL"
   },
   "outputs": [],
   "source": [
    "# 함수의 형태로 정의해 봅시다.\n",
    "def not_gate(a: bool) -> bool:\n",
    "  return not a "
   ]
  },
  {
   "cell_type": "code",
   "execution_count": 5,
   "metadata": {
    "colab": {
     "base_uri": "https://localhost:8080/"
    },
    "id": "aKskq-QH5JMJ",
    "outputId": "418b2a5e-0c3a-4f93-d93c-7b5bfb3e0058"
   },
   "outputs": [
    {
     "name": "stdout",
     "output_type": "stream",
     "text": [
      "input : True, output : False\n",
      "input : False, output : True\n"
     ]
    }
   ],
   "source": [
    "# 두 가지 입력값에 대한 결과를 살펴 봅시다.\n",
    "for a in [True, False]: # True/False 두가지 값을 각각 넣어봅니다.\n",
    "  print(f'input : {a}, output : {not_gate(a)}')  # f-string 출력"
   ]
  },
  {
   "cell_type": "code",
   "execution_count": 6,
   "metadata": {
    "colab": {
     "base_uri": "https://localhost:8080/"
    },
    "id": "9UmqCx-W5WCq",
    "outputId": "4349b191-ee04-40be-f0b0-c20148902272"
   },
   "outputs": [
    {
     "name": "stdout",
     "output_type": "stream",
     "text": [
      "input : True, output : True\n",
      "input : False, output : False\n"
     ]
    }
   ],
   "source": [
    "# not gate를 두번 가하면 identity gate와 동일하게 됩니다.\n",
    "for a in [True, False]:\n",
    "  print(f'input : {a}, output : {not_gate(not_gate(a))}') \n"
   ]
  },
  {
   "cell_type": "code",
   "execution_count": 7,
   "metadata": {
    "id": "p-I4_Rlo55ek"
   },
   "outputs": [],
   "source": [
    "# 더 진행하기 전에 몇가지 편의를 위한 함수를 정의해봅시다.\n",
    "from itertools import product\n",
    "\n",
    "def generate_truth_table(num_inputs: int, func: object): \n",
    "  # 함수를 입력변수로 받을 수도 있습니다.\n",
    "  print(f\"Truth table of {func.__name__}\")\n",
    "\n",
    "  prod = product([False, True], repeat=num_inputs)  \n",
    "  # 모든 입력값의 경우의 수를 조합합니다.\n",
    "  \n",
    "  for args in prod:\n",
    "    print(f'input: {args}, output: {func(*args)}')\n"
   ]
  },
  {
   "cell_type": "code",
   "execution_count": 8,
   "metadata": {
    "colab": {
     "base_uri": "https://localhost:8080/"
    },
    "id": "mv3l6nKk6ZML",
    "outputId": "5a092a8c-89b0-483c-804a-3304c39f231c"
   },
   "outputs": [
    {
     "name": "stdout",
     "output_type": "stream",
     "text": [
      "Truth table of not_gate\n",
      "input: (False,), output: True\n",
      "input: (True,), output: False\n"
     ]
    }
   ],
   "source": [
    "# 잘 작동하는지 확인해봅시다.\n",
    "generate_truth_table(1, not_gate)"
   ]
  },
  {
   "cell_type": "markdown",
   "metadata": {
    "id": "eXpqkOyu9LOQ"
   },
   "source": [
    "## 이중 논리 연산자의 구현"
   ]
  },
  {
   "cell_type": "code",
   "execution_count": 9,
   "metadata": {
    "id": "lGmAoM7-84W6"
   },
   "outputs": [],
   "source": [
    "# AND, OR, XOR 게이트를 각각 구현해봅시다.\n",
    "\n",
    "def and_gate(a: bool, b: bool) -> bool :\n",
    "  return a and b\n",
    "\n",
    "def or_gate(a: bool, b: bool) -> bool:\n",
    "  return a or b\n",
    "\n",
    "def xor_gate(a: bool, b:bool) -> bool:\n",
    "  return a != b  # 또는 a is not b 도 가능합니다."
   ]
  },
  {
   "cell_type": "code",
   "execution_count": 10,
   "metadata": {
    "colab": {
     "base_uri": "https://localhost:8080/"
    },
    "id": "UJMFOAL49nhz",
    "outputId": "b1441c81-bcaa-41c1-856e-93167d48d0c5"
   },
   "outputs": [
    {
     "name": "stdout",
     "output_type": "stream",
     "text": [
      "Truth table of and_gate\n",
      "input: (False, False), output: False\n",
      "input: (False, True), output: False\n",
      "input: (True, False), output: False\n",
      "input: (True, True), output: True\n"
     ]
    }
   ],
   "source": [
    "generate_truth_table(2, and_gate)"
   ]
  },
  {
   "cell_type": "code",
   "execution_count": 11,
   "metadata": {
    "colab": {
     "base_uri": "https://localhost:8080/"
    },
    "id": "Hl96Gg5b9poz",
    "outputId": "3dae5592-7760-494b-e4a7-45a77eaefa6e"
   },
   "outputs": [
    {
     "name": "stdout",
     "output_type": "stream",
     "text": [
      "Truth table of or_gate\n",
      "input: (False, False), output: False\n",
      "input: (False, True), output: True\n",
      "input: (True, False), output: True\n",
      "input: (True, True), output: True\n"
     ]
    }
   ],
   "source": [
    "generate_truth_table(2, or_gate)"
   ]
  },
  {
   "cell_type": "code",
   "execution_count": 12,
   "metadata": {
    "colab": {
     "base_uri": "https://localhost:8080/"
    },
    "id": "apWzJXps9rdE",
    "outputId": "2a37ef8f-a166-4022-cabb-9e9657595a84"
   },
   "outputs": [
    {
     "name": "stdout",
     "output_type": "stream",
     "text": [
      "Truth table of xor_gate\n",
      "input: (False, False), output: False\n",
      "input: (False, True), output: True\n",
      "input: (True, False), output: True\n",
      "input: (True, True), output: False\n"
     ]
    }
   ],
   "source": [
    "generate_truth_table(2, xor_gate)"
   ]
  },
  {
   "cell_type": "code",
   "execution_count": 13,
   "metadata": {
    "id": "2WeNeOM99-wO"
   },
   "outputs": [],
   "source": [
    "# NAND 게이트와 NOR 게이트는 위 게이트들을 조합해서 만들 수 있습니다.\n",
    "\n",
    "def nand_gate(a: bool, b: bool) -> bool:\n",
    "  return not (a and b)\n",
    "\n",
    "def nor_gate(a: bool, b: bool) -> bool:\n",
    "  return not (a or b)"
   ]
  },
  {
   "cell_type": "code",
   "execution_count": 14,
   "metadata": {
    "colab": {
     "base_uri": "https://localhost:8080/"
    },
    "id": "w78dc03F-6Ag",
    "outputId": "8e37a9a7-6f8e-4655-8be9-c2343c51b524"
   },
   "outputs": [
    {
     "name": "stdout",
     "output_type": "stream",
     "text": [
      "Truth table of nand_gate\n",
      "input: (False, False), output: True\n",
      "input: (False, True), output: True\n",
      "input: (True, False), output: True\n",
      "input: (True, True), output: False\n",
      "Truth table of nor_gate\n",
      "input: (False, False), output: True\n",
      "input: (False, True), output: False\n",
      "input: (True, False), output: False\n",
      "input: (True, True), output: False\n"
     ]
    }
   ],
   "source": [
    "generate_truth_table(2, nand_gate)\n",
    "generate_truth_table(2, nor_gate)"
   ]
  },
  {
   "cell_type": "markdown",
   "metadata": {
    "id": "1Lg3ws6IAKmq"
   },
   "source": [
    "## 실습 문제\n",
    "\n",
    "1. OR 게이트를 NOT게이트와 AND 게이트로 표현해봅시다.\n",
    "2. AND 게이트를 NOT 게이트와 OR 게이트로 표현해봅시다.\n",
    "\n",
    "3. 수업시간에 다루었던 복잡한 논리회로를 구성하고 진리표를 만들어 봅시다.\n",
    "\n",
    "4. 수업시간에 다루었던 진리표를 표현하는 논리회로를 구현하고 같은 진리표가 나오는지 확인해 봅시다."
   ]
  },
  {
   "cell_type": "markdown",
   "metadata": {
    "id": "29COltMGjAfo"
   },
   "source": [
    "3. ![image.png](data:image/png;base64,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)"
   ]
  },
  {
   "cell_type": "markdown",
   "metadata": {
    "id": "qVvSnhQ4i98P"
   },
   "source": [
    "4. ![image.png](data:image/png;base64,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)"
   ]
  },
  {
   "cell_type": "markdown",
   "metadata": {
    "id": "jsFh1XgzkRE7"
   },
   "source": [
    "1. OR 게이트를 NOT게이트와 AND 게이트로 표현해봅시다."
   ]
  },
  {
   "cell_type": "code",
   "execution_count": 18,
   "metadata": {
    "id": "r4u3ehcMkYWf"
   },
   "outputs": [],
   "source": [
    "def make_or_gate(a:bool, b:bool) -> bool:\n",
    "    return not_gate((not_gate(a)) and (not_gate(b)))\n",
    "    "
   ]
  },
  {
   "cell_type": "code",
   "execution_count": 19,
   "metadata": {},
   "outputs": [
    {
     "name": "stdout",
     "output_type": "stream",
     "text": [
      "Truth table of make_or_gate\n",
      "input: (False, False), output: False\n",
      "input: (False, True), output: True\n",
      "input: (True, False), output: True\n",
      "input: (True, True), output: True\n"
     ]
    }
   ],
   "source": [
    "generate_truth_table(2, make_or_gate)"
   ]
  },
  {
   "cell_type": "markdown",
   "metadata": {},
   "source": [
    "2. AND 게이트를 NOT 게이트와 OR 게이트로 표현해봅시다."
   ]
  },
  {
   "cell_type": "code",
   "execution_count": 22,
   "metadata": {},
   "outputs": [],
   "source": [
    "def make_and_gate(a:bool, b:bool) -> bool:\n",
    "    return not_gate((not_gate(a)) or (not_gate(b)))"
   ]
  },
  {
   "cell_type": "code",
   "execution_count": 23,
   "metadata": {},
   "outputs": [
    {
     "name": "stdout",
     "output_type": "stream",
     "text": [
      "Truth table of make_and_gate\n",
      "input: (False, False), output: False\n",
      "input: (False, True), output: False\n",
      "input: (True, False), output: False\n",
      "input: (True, True), output: True\n"
     ]
    }
   ],
   "source": [
    "generate_truth_table(2,make_and_gate)"
   ]
  },
  {
   "cell_type": "markdown",
   "metadata": {},
   "source": [
    "3. 수업시간에 다루었던 복잡한 논리회로를 구성하고 진리표를 만들어 봅시다."
   ]
  },
  {
   "cell_type": "code",
   "execution_count": 33,
   "metadata": {},
   "outputs": [],
   "source": [
    "def test_3_gate(a:bool, b:bool, c:bool) -> bool:\n",
    "    return not_gate((a or b) and nand_gate(c,c))"
   ]
  },
  {
   "cell_type": "code",
   "execution_count": 34,
   "metadata": {},
   "outputs": [
    {
     "name": "stdout",
     "output_type": "stream",
     "text": [
      "Truth table of test_3_gate\n",
      "input: (False, False, False), output: True\n",
      "input: (False, False, True), output: True\n",
      "input: (False, True, False), output: False\n",
      "input: (False, True, True), output: True\n",
      "input: (True, False, False), output: False\n",
      "input: (True, False, True), output: True\n",
      "input: (True, True, False), output: False\n",
      "input: (True, True, True), output: True\n"
     ]
    }
   ],
   "source": [
    "generate_truth_table(3, test_3_gate)"
   ]
  },
  {
   "cell_type": "markdown",
   "metadata": {},
   "source": [
    "4. 수업시간에 다루었던 진리표를 표현하는 논리회로를 구현하고 같은 진리표가 나오는지 확인해 봅시다."
   ]
  },
  {
   "cell_type": "code",
   "execution_count": 46,
   "metadata": {},
   "outputs": [],
   "source": [
    "def test_4_gate(a:bool, b:bool, c:bool) -> bool:\n",
    "    return ((not a) and (not b) and (not c)) or ((not a) and (not b) and c) or (a and (not b) and (not c)) or (a and b and (not c)) "
   ]
  },
  {
   "cell_type": "code",
   "execution_count": 48,
   "metadata": {},
   "outputs": [
    {
     "name": "stdout",
     "output_type": "stream",
     "text": [
      "Truth table of test_4_gate\n",
      "input: (False, False, False), output: True\n",
      "input: (False, False, True), output: True\n",
      "input: (False, True, False), output: False\n",
      "input: (False, True, True), output: False\n",
      "input: (True, False, False), output: True\n",
      "input: (True, False, True), output: False\n",
      "input: (True, True, False), output: True\n",
      "input: (True, True, True), output: False\n"
     ]
    }
   ],
   "source": [
    "generate_truth_table(3, test_4_gate)"
   ]
  },
  {
   "cell_type": "markdown",
   "metadata": {},
   "source": [
    "2020311998 위지원\n",
    "2018311033 이종민"
   ]
  }
 ],
 "metadata": {
  "colab": {
   "name": "Lecture01_classical information and computing.ipynb의 사본",
   "provenance": []
  },
  "kernelspec": {
   "display_name": "Python 3",
   "language": "python",
   "name": "python3"
  },
  "language_info": {
   "codemirror_mode": {
    "name": "ipython",
    "version": 3
   },
   "file_extension": ".py",
   "mimetype": "text/x-python",
   "name": "python",
   "nbconvert_exporter": "python",
   "pygments_lexer": "ipython3",
   "version": "3.9.7"
  }
 },
 "nbformat": 4,
 "nbformat_minor": 1
}
