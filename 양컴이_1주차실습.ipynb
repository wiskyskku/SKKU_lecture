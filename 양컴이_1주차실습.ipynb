{
  "nbformat": 4,
  "nbformat_minor": 0,
  "metadata": {
    "colab": {
      "name": "양컴이_1주차실습.ipynb",
      "provenance": [],
      "collapsed_sections": [],
      "authorship_tag": "ABX9TyMoxNmWfRew73iLX1ysyRci",
      "include_colab_link": true
    },
    "kernelspec": {
      "name": "python3",
      "display_name": "Python 3"
    },
    "language_info": {
      "name": "python"
    }
  },
  "cells": [
    {
      "cell_type": "markdown",
      "metadata": {
        "id": "view-in-github",
        "colab_type": "text"
      },
      "source": [
        "<a href=\"https://colab.research.google.com/github/wiskyskku/SKKU_lecture/blob/main/%EC%96%91%EC%BB%B4%EC%9D%B4_1%EC%A3%BC%EC%B0%A8%EC%8B%A4%EC%8A%B5.ipynb\" target=\"_parent\"><img src=\"https://colab.research.google.com/assets/colab-badge.svg\" alt=\"Open In Colab\"/></a>"
      ]
    },
    {
      "cell_type": "markdown",
      "source": [
        "#강의 01 고전 정보와 컴퓨팅"
      ],
      "metadata": {
        "id": "_gPTAo0m_qKl"
      }
    },
    {
      "cell_type": "markdown",
      "source": [
        "목표 : 기초 논리 회로의 구현, 함수와 클래스 사용법"
      ],
      "metadata": {
        "id": "p6Q5-v2F_w2x"
      }
    },
    {
      "cell_type": "code",
      "source": [
        "# boolean 변수는 True or False의 값을 가진다. 1 또는 0으로도 표현 가능하다.\n",
        "a = True\n",
        "b = False\n",
        "print(\"a:\",a)\n",
        "print(\"b:\",b)"
      ],
      "metadata": {
        "colab": {
          "base_uri": "https://localhost:8080/"
        },
        "id": "W9SacCaA_85F",
        "outputId": "db9219f1-9a8c-45d2-8c47-5eb73dd77578"
      },
      "execution_count": 1,
      "outputs": [
        {
          "output_type": "stream",
          "name": "stdout",
          "text": [
            "a: True\n",
            "b: False\n"
          ]
        }
      ]
    },
    {
      "cell_type": "code",
      "source": [
        "# boolean --> int\n",
        "print(\"a:\",int(a))\n",
        "print(\"b:\",int(b))\n",
        "# int --> boolean\n",
        "print(bool(1))\n",
        "print(bool(0))"
      ],
      "metadata": {
        "colab": {
          "base_uri": "https://localhost:8080/"
        },
        "id": "GPxPWJYR_-Ha",
        "outputId": "a26486d8-1ff1-4702-9897-c1fed7f0bdd9"
      },
      "execution_count": 2,
      "outputs": [
        {
          "output_type": "stream",
          "name": "stdout",
          "text": [
            "a: 1\n",
            "b: 0\n",
            "True\n",
            "False\n"
          ]
        }
      ]
    },
    {
      "cell_type": "markdown",
      "source": [
        "# Boolean 연산자의 구현 - 단일 논리 연산자"
      ],
      "metadata": {
        "id": "bMlZ4GoxBAsC"
      }
    },
    {
      "cell_type": "code",
      "source": [
        "# NOT gate는 boolean 변수 앞에서 not을 붙이면 됩니다.\n",
        "print(not a)\n",
        "print(not b)"
      ],
      "metadata": {
        "colab": {
          "base_uri": "https://localhost:8080/"
        },
        "id": "lHR_2LOUBIDe",
        "outputId": "49c16cfd-cb5f-4fbe-df83-2ce0c66fc10f"
      },
      "execution_count": 5,
      "outputs": [
        {
          "output_type": "stream",
          "name": "stdout",
          "text": [
            "False\n",
            "True\n"
          ]
        }
      ]
    },
    {
      "cell_type": "code",
      "source": [
        "# 함수의 형태로 정의하자\n",
        "def not_gate(a: bool) -> bool:\n",
        "  return not a"
      ],
      "metadata": {
        "id": "BS19tJBiBikV"
      },
      "execution_count": 7,
      "outputs": []
    },
    {
      "cell_type": "code",
      "source": [
        "# 두 가지 입력값에 대한 결과를 확인하자\n",
        "for a in [True,False]:\n",
        "  print(f\"input : {a}, output : {not_gate(a)}\")"
      ],
      "metadata": {
        "colab": {
          "base_uri": "https://localhost:8080/"
        },
        "id": "XVMr_G8FBne0",
        "outputId": "743a1c78-6c01-4c9e-9a6e-22fb7bf72fc3"
      },
      "execution_count": 9,
      "outputs": [
        {
          "output_type": "stream",
          "name": "stdout",
          "text": [
            "input : True, output : False\n",
            "input : False, output : True\n"
          ]
        }
      ]
    },
    {
      "cell_type": "code",
      "source": [
        "# NOT gate를 두번 가하면 identity gate와 동일하게 됩니다.\n",
        "for a in [True,False]:\n",
        "  print(f\"input : {a}, output : {not_gate(not_gate(a))}\")"
      ],
      "metadata": {
        "colab": {
          "base_uri": "https://localhost:8080/"
        },
        "id": "FyfDRnAPBrVw",
        "outputId": "f2a0feb0-741b-4fe2-bc64-0a2f0ea58225"
      },
      "execution_count": 10,
      "outputs": [
        {
          "output_type": "stream",
          "name": "stdout",
          "text": [
            "input : True, output : True\n",
            "input : False, output : False\n"
          ]
        }
      ]
    },
    {
      "cell_type": "code",
      "source": [
        ""
      ],
      "metadata": {
        "id": "yZzo3ilsD7NF"
      },
      "execution_count": null,
      "outputs": []
    }
  ]
}