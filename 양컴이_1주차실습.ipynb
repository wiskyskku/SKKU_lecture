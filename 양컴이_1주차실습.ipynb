{
  "nbformat": 4,
  "nbformat_minor": 0,
  "metadata": {
    "colab": {
      "name": "양컴이_1주차실습.ipynb",
      "provenance": [],
      "collapsed_sections": [],
      "authorship_tag": "ABX9TyP+EstyK6Xrj41970k/WqQr",
      "include_colab_link": true
    },
    "kernelspec": {
      "name": "python3",
      "display_name": "Python 3"
    },
    "language_info": {
      "name": "python"
    }
  },
  "cells": [
    {
      "cell_type": "markdown",
      "metadata": {
        "id": "view-in-github",
        "colab_type": "text"
      },
      "source": [
        "<a href=\"https://colab.research.google.com/github/wiskyskku/SKKU_lecture/blob/main/%EC%96%91%EC%BB%B4%EC%9D%B4_1%EC%A3%BC%EC%B0%A8%EC%8B%A4%EC%8A%B5.ipynb\" target=\"_parent\"><img src=\"https://colab.research.google.com/assets/colab-badge.svg\" alt=\"Open In Colab\"/></a>"
      ]
    },
    {
      "cell_type": "markdown",
      "source": [
        "#강의 01 고전 정보와 컴퓨팅"
      ],
      "metadata": {
        "id": "_gPTAo0m_qKl"
      }
    },
    {
      "cell_type": "markdown",
      "source": [
        "목표 : 기초 논리 회로의 구현, 함수와 클래스 사용법"
      ],
      "metadata": {
        "id": "p6Q5-v2F_w2x"
      }
    },
    {
      "cell_type": "code",
      "source": [
        "# boolean 변수는 True or False의 값을 가진다. 1 또는 0으로도 표현 가능하다.\n",
        "a = True\n",
        "b = False\n",
        "print(\"a:\",a)\n",
        "print(\"b:\",b)"
      ],
      "metadata": {
        "colab": {
          "base_uri": "https://localhost:8080/"
        },
        "id": "W9SacCaA_85F",
        "outputId": "db9219f1-9a8c-45d2-8c47-5eb73dd77578"
      },
      "execution_count": 1,
      "outputs": [
        {
          "output_type": "stream",
          "name": "stdout",
          "text": [
            "a: True\n",
            "b: False\n"
          ]
        }
      ]
    },
    {
      "cell_type": "code",
      "source": [
        "# boolean --> int\n",
        "print(\"a:\",int(a))\n",
        "print(\"b:\",int(b))\n",
        "# int --> boolean\n",
        "print(bool(1))\n",
        "print(bool(0))"
      ],
      "metadata": {
        "colab": {
          "base_uri": "https://localhost:8080/"
        },
        "id": "GPxPWJYR_-Ha",
        "outputId": "a26486d8-1ff1-4702-9897-c1fed7f0bdd9"
      },
      "execution_count": 2,
      "outputs": [
        {
          "output_type": "stream",
          "name": "stdout",
          "text": [
            "a: 1\n",
            "b: 0\n",
            "True\n",
            "False\n"
          ]
        }
      ]
    },
    {
      "cell_type": "markdown",
      "source": [
        "# Boolean 연산자의 구현 - 단일 논리 연산자"
      ],
      "metadata": {
        "id": "bMlZ4GoxBAsC"
      }
    },
    {
      "cell_type": "code",
      "source": [
        "# NOT gate는 boolean 변수 앞에서 not을 붙이면 됩니다.\n",
        "print(not a)\n",
        "print(not b)"
      ],
      "metadata": {
        "colab": {
          "base_uri": "https://localhost:8080/"
        },
        "id": "lHR_2LOUBIDe",
        "outputId": "49c16cfd-cb5f-4fbe-df83-2ce0c66fc10f"
      },
      "execution_count": 5,
      "outputs": [
        {
          "output_type": "stream",
          "name": "stdout",
          "text": [
            "False\n",
            "True\n"
          ]
        }
      ]
    },
    {
      "cell_type": "code",
      "source": [
        "# 함수의 형태로 정의하자\n",
        "def not_gate(a: bool) -> bool:\n",
        "  return not a"
      ],
      "metadata": {
        "id": "BS19tJBiBikV"
      },
      "execution_count": 7,
      "outputs": []
    },
    {
      "cell_type": "code",
      "source": [
        "# 두 가지 입력값에 대한 결과를 확인하자\n",
        "for a in [True,False]:\n",
        "  print(f\"input : {a}, output : {not_gate(a)}\")"
      ],
      "metadata": {
        "colab": {
          "base_uri": "https://localhost:8080/"
        },
        "id": "XVMr_G8FBne0",
        "outputId": "743a1c78-6c01-4c9e-9a6e-22fb7bf72fc3"
      },
      "execution_count": 9,
      "outputs": [
        {
          "output_type": "stream",
          "name": "stdout",
          "text": [
            "input : True, output : False\n",
            "input : False, output : True\n"
          ]
        }
      ]
    },
    {
      "cell_type": "code",
      "source": [
        "# NOT gate를 두번 가하면 identity gate와 동일하게 됩니다.\n",
        "for a in [True,False]:\n",
        "  print(f\"input : {a}, output : {not_gate(not_gate(a))}\")"
      ],
      "metadata": {
        "colab": {
          "base_uri": "https://localhost:8080/"
        },
        "id": "FyfDRnAPBrVw",
        "outputId": "f2a0feb0-741b-4fe2-bc64-0a2f0ea58225"
      },
      "execution_count": 10,
      "outputs": [
        {
          "output_type": "stream",
          "name": "stdout",
          "text": [
            "input : True, output : True\n",
            "input : False, output : False\n"
          ]
        }
      ]
    },
    {
      "cell_type": "code",
      "source": [
        "# 추가적으로 함수 정의(True Table 작성)\n",
        "from itertools import product # 두 개 이상의 리스트의 조합을 표현하기 위해 import\n",
        "\n",
        "def generate_true_table(num_input: int, func: object) -> None:\n",
        "  print(f\"True table of {func.__name__}\")\n",
        "\n",
        "  prod = product([False, True], repeat = num_input)\n",
        "\n",
        "  for args in prod:\n",
        "    print(f\"input: {args}, output: {func(*args)}\")"
      ],
      "metadata": {
        "id": "yZzo3ilsD7NF"
      },
      "execution_count": 14,
      "outputs": []
    },
    {
      "cell_type": "code",
      "source": [
        "# check\n",
        "generate_true_table(1, not_gate)"
      ],
      "metadata": {
        "colab": {
          "base_uri": "https://localhost:8080/"
        },
        "id": "8MbH0BmTHK3Z",
        "outputId": "6b033892-f42b-4b6b-c89a-6abafd7ce6d8"
      },
      "execution_count": 15,
      "outputs": [
        {
          "output_type": "stream",
          "name": "stdout",
          "text": [
            "True table of not_gate\n",
            "input: (False,), output: True\n",
            "input: (True,), output: False\n"
          ]
        }
      ]
    },
    {
      "cell_type": "markdown",
      "source": [
        "# 이중 논리 연산자의 구현"
      ],
      "metadata": {
        "id": "hsUOVk6uHuE4"
      }
    },
    {
      "cell_type": "code",
      "source": [
        "# AND, OR, XOR 게이트를 구현\n",
        "def and_gate(a:bool ,b: bool) -> bool:\n",
        "  return a and b\n",
        "\n",
        "def or_gate(a:bool ,b:bool) -> bool:\n",
        "  return a or b\n",
        "\n",
        "def xor_gate(a:bool ,b:bool) -> bool:\n",
        "  return (a != b) # a is not b\n"
      ],
      "metadata": {
        "id": "lEb0sBv4Hx9r"
      },
      "execution_count": 16,
      "outputs": []
    },
    {
      "cell_type": "code",
      "source": [
        "generate_true_table(2, and_gate)"
      ],
      "metadata": {
        "colab": {
          "base_uri": "https://localhost:8080/"
        },
        "id": "I29u-6_9JV42",
        "outputId": "b3311532-60da-46c9-be7a-21cfaf8c6296"
      },
      "execution_count": 17,
      "outputs": [
        {
          "output_type": "stream",
          "name": "stdout",
          "text": [
            "True table of and_gate\n",
            "input: (False, False), output: False\n",
            "input: (False, True), output: False\n",
            "input: (True, False), output: False\n",
            "input: (True, True), output: True\n"
          ]
        }
      ]
    },
    {
      "cell_type": "code",
      "source": [
        "generate_true_table(2, or_gate)"
      ],
      "metadata": {
        "colab": {
          "base_uri": "https://localhost:8080/"
        },
        "id": "Avv4nKxmJcfl",
        "outputId": "81b2fcab-3bdb-49ad-e3c0-5b2e308dd971"
      },
      "execution_count": 18,
      "outputs": [
        {
          "output_type": "stream",
          "name": "stdout",
          "text": [
            "True table of or_gate\n",
            "input: (False, False), output: False\n",
            "input: (False, True), output: True\n",
            "input: (True, False), output: True\n",
            "input: (True, True), output: True\n"
          ]
        }
      ]
    },
    {
      "cell_type": "code",
      "source": [
        "generate_true_table(2, xor_gate) # mod 2"
      ],
      "metadata": {
        "colab": {
          "base_uri": "https://localhost:8080/"
        },
        "id": "flYmPUrVJku0",
        "outputId": "207d23d3-0066-4e00-8690-38cf35cd51b0"
      },
      "execution_count": 19,
      "outputs": [
        {
          "output_type": "stream",
          "name": "stdout",
          "text": [
            "True table of xor_gate\n",
            "input: (False, False), output: False\n",
            "input: (False, True), output: True\n",
            "input: (True, False), output: True\n",
            "input: (True, True), output: False\n"
          ]
        }
      ]
    },
    {
      "cell_type": "code",
      "source": [
        "# NAND gate, NOR gate\n",
        "def nand_gate(a:bool ,b:bool) -> bool:\n",
        "  return not(a and b)\n",
        "\n",
        "def nor_gate(a:bool ,b:bool) -> bool:\n",
        "  return not(a or b)  "
      ],
      "metadata": {
        "id": "fbIMq41MJniQ"
      },
      "execution_count": 22,
      "outputs": []
    },
    {
      "cell_type": "code",
      "source": [
        "generate_true_table(2, nand_gate)"
      ],
      "metadata": {
        "colab": {
          "base_uri": "https://localhost:8080/"
        },
        "id": "gVDKVuVlKDpl",
        "outputId": "22f07bd0-14fd-4824-b373-a16eba92656b"
      },
      "execution_count": 21,
      "outputs": [
        {
          "output_type": "stream",
          "name": "stdout",
          "text": [
            "True table of nand_gate\n",
            "input: (False, False), output: True\n",
            "input: (False, True), output: True\n",
            "input: (True, False), output: True\n",
            "input: (True, True), output: False\n"
          ]
        }
      ]
    },
    {
      "cell_type": "code",
      "source": [
        "generate_true_table(2, nor_gate)"
      ],
      "metadata": {
        "colab": {
          "base_uri": "https://localhost:8080/"
        },
        "id": "nbGqkNvYKGYA",
        "outputId": "ba9bdd2a-88fb-48cd-9af1-2e2b67864ead"
      },
      "execution_count": 23,
      "outputs": [
        {
          "output_type": "stream",
          "name": "stdout",
          "text": [
            "True table of nor_gate\n",
            "input: (False, False), output: True\n",
            "input: (False, True), output: False\n",
            "input: (True, False), output: False\n",
            "input: (True, True), output: False\n"
          ]
        }
      ]
    },
    {
      "cell_type": "markdown",
      "source": [
        "# 실습"
      ],
      "metadata": {
        "id": "pqeA-fewKwVa"
      }
    },
    {
      "cell_type": "code",
      "source": [
        ""
      ],
      "metadata": {
        "id": "k8EfRUPzKzE0"
      },
      "execution_count": null,
      "outputs": []
    }
  ]
}