{
 "cells": [
  {
   "cell_type": "markdown",
   "metadata": {
    "id": "j80ZHUjoxERo"
   },
   "source": [
    "# Exercise 2. Adder\n",
    "\n",
    "본 실습시간에는 덧셈 회로를 만들어 볼 것입니다. 우선 2진법 수의 덧셈을 생각해봅시다. \n",
    "$ a + b = ? $\n",
    "\n",
    "a,b 두개의 입력 비트가 들어와서 덧셈 연산을 할 때를 생각해봅시다. \n",
    "\n",
    "1-1. 몇 개의 출력 비트가 필요할까요?\n",
    "\n",
    "1-2. 진리표를 만들어봅시다.\n",
    "\n",
    "1-3. 진리표를 들여다보고 어떤 게이트를 사용해야 할지 생각해봅시다. 해당 논리 회로를 함수로 구현해봅시다."
   ]
  },
  {
   "cell_type": "markdown",
   "metadata": {
    "id": "5Gn9pTGVxi3N"
   },
   "source": [
    "* 1-1, 1-2 에 대한 답안은 아래 텍스트로 작성해주세요.\n",
    "\n",
    "<답안>\n",
    "\n",
    "\n"
   ]
  },
  {
   "cell_type": "code",
   "execution_count": 5,
   "metadata": {
    "id": "g5akYUhny_k0"
   },
   "outputs": [],
   "source": [
    "# useful functions\n",
    "\n",
    "from itertools import product\n",
    "\n",
    "def is_reversible(num_inputs: int, func: object): \n",
    "  print(f\"## checking the reversibility of {func.__name__}\")\n",
    "  prod = product([False, True], repeat = num_inputs)\n",
    "\n",
    "  outputs = set()\n",
    "  for args in prod:\n",
    "    outputs.add(func(*args))\n",
    "\n",
    "  print(f\"number of possible input: {2**num_inputs}\")\n",
    "  #print(f\"all possible outputs : {outputs}\")\n",
    "  print(f\"number of possible output: {len(outputs)}\")\n",
    "  check = len(outputs)==2 ** num_inputs\n",
    "  print(\"It is reversible\" if check else \"It is irreversible\")\n",
    "  #return check\n",
    "\n",
    "\n",
    "def generate_truth_table(num_inputs: int, func: object): \n",
    "  # 함수를 입력변수로 받을 수도 있습니다.\n",
    "  print(f\"Truth table of {func.__name__}\")\n",
    "\n",
    "  prod = product([False, True], repeat=num_inputs)  \n",
    "  # 모든 입력값의 경우의 수를 조합합니다.\n",
    "  \n",
    "  for args in prod:\n",
    "    print(f'input: {args}, output: {func(*args)}')\n",
    "\n"
   ]
  },
  {
   "cell_type": "code",
   "execution_count": 6,
   "metadata": {
    "id": "h5KB4NWtw9qR"
   },
   "outputs": [
    {
     "name": "stdout",
     "output_type": "stream",
     "text": [
      "Truth table of half_adder\n",
      "input: (False, False), output: (False, False)\n",
      "input: (False, True), output: (False, True)\n",
      "input: (True, False), output: (False, True)\n",
      "input: (True, True), output: (True, False)\n"
     ]
    }
   ],
   "source": [
    "# 1-3 답안\n",
    "import typing\n",
    "\n",
    "def half_adder(a: bool, b: bool) -> typing.Tuple[bool]:\n",
    "    carry = a and b\n",
    "    output = a != b\n",
    "    return (carry, output)\n",
    "\n",
    "generate_truth_table(2, half_adder)"
   ]
  },
  {
   "cell_type": "markdown",
   "metadata": {
    "id": "c9iqistIzN3T"
   },
   "source": [
    "앞서 만든 논리 회로를 Half adder라고 합니다. 만든 회로가 reversible 한지 테스트 해봅니다."
   ]
  },
  {
   "cell_type": "code",
   "execution_count": 7,
   "metadata": {
    "id": "2u_k9tSIzdvc"
   },
   "outputs": [
    {
     "name": "stdout",
     "output_type": "stream",
     "text": [
      "## checking the reversibility of half_adder\n",
      "number of possible input: 4\n",
      "number of possible output: 3\n",
      "It is irreversible\n"
     ]
    }
   ],
   "source": [
    "is_reversible(2, half_adder)"
   ]
  },
  {
   "cell_type": "markdown",
   "metadata": {
    "id": "yXVAhJDNzjtN"
   },
   "source": [
    "2. half adder를 reversible하게 만들 수 있는 방법을 생각해봅시다. 해당하는 논리 회로를 함수로 구현해봅시다."
   ]
  },
  {
   "cell_type": "code",
   "execution_count": 8,
   "metadata": {
    "id": "WuLL17z_zral"
   },
   "outputs": [
    {
     "name": "stdout",
     "output_type": "stream",
     "text": [
      "Truth table of half_adder_reversible\n",
      "input: (False, False, False, False), output: (False, False, False, False)\n",
      "input: (False, False, False, True), output: (False, False, False, True)\n",
      "input: (False, False, True, False), output: (False, False, True, False)\n",
      "input: (False, False, True, True), output: (False, False, True, True)\n",
      "input: (False, True, False, False), output: (False, True, False, True)\n",
      "input: (False, True, False, True), output: (False, True, False, False)\n",
      "input: (False, True, True, False), output: (False, True, True, True)\n",
      "input: (False, True, True, True), output: (False, True, True, False)\n",
      "input: (True, False, False, False), output: (True, False, False, True)\n",
      "input: (True, False, False, True), output: (True, False, False, False)\n",
      "input: (True, False, True, False), output: (True, False, True, True)\n",
      "input: (True, False, True, True), output: (True, False, True, False)\n",
      "input: (True, True, False, False), output: (True, True, True, False)\n",
      "input: (True, True, False, True), output: (True, True, True, True)\n",
      "input: (True, True, True, False), output: (True, True, False, False)\n",
      "input: (True, True, True, True), output: (True, True, False, True)\n",
      "## checking the reversibility of half_adder_reversible\n",
      "number of possible input: 16\n",
      "number of possible output: 16\n",
      "It is reversible\n"
     ]
    }
   ],
   "source": [
    "# 2 답안\n",
    "def half_adder_reversible(a: bool, b: bool, c:bool, d:bool) -> typing.Tuple[bool]:\n",
    "    one = a\n",
    "    two = b\n",
    "    three = (a and b) != c\n",
    "    four = (a != b) != d\n",
    "    return (one, two, three, four)\n",
    "    \n",
    "\n",
    "\n",
    "generate_truth_table(4, half_adder_reversible)\n",
    "is_reversible(4, half_adder_reversible)"
   ]
  },
  {
   "cell_type": "markdown",
   "metadata": {
    "id": "LgBxSpJRz5Gt"
   },
   "source": [
    "이제 숫자를 키워봅시다. 2 이상의 숫자를 2진수에서 고려할때는 자릿수 올림이 생깁니다. 이것을 carry over라고 합니다.\n",
    "\n",
    "$ a + b + c (\\text{carry over}) = ? $\n",
    "\n",
    "3-1. carry over를 포함한 덧셈의 진리표를 생각해봅시다.\n",
    "\n",
    "3-2. 이 연산을 수행할 수 있는 논리 회로를 구현해봅시다."
   ]
  },
  {
   "cell_type": "markdown",
   "metadata": {
    "id": "6YUHhH6l1btY"
   },
   "source": [
    "3-1 답안은 여기에 작성해주세요"
   ]
  },
  {
   "cell_type": "markdown",
   "metadata": {},
   "source": [
    "3-1\n",
    "\n",
    "(a b c)  output\n",
    "\n",
    "(0 0 0)  (0 0)\n",
    "\n",
    "(0 0 1)  (0 1)\n",
    "\n",
    "(0 1 0)  (0 1)\n",
    "\n",
    "(0 1 1)  (1 0)\n",
    "\n",
    "(1 0 0)  (0 1)\n",
    "\n",
    "(1 0 1)  (1 0)\n",
    "\n",
    "(1 1 0)  (1 0)\n",
    "\n",
    "(1 1 1)  (1 1)"
   ]
  },
  {
   "cell_type": "code",
   "execution_count": 9,
   "metadata": {
    "id": "2qq0t1fO1amr"
   },
   "outputs": [
    {
     "name": "stdout",
     "output_type": "stream",
     "text": [
      "Truth table of full_adder\n",
      "input: (False, False, False), output: (False, False)\n",
      "input: (False, False, True), output: (False, True)\n",
      "input: (False, True, False), output: (False, True)\n",
      "input: (False, True, True), output: (True, False)\n",
      "input: (True, False, False), output: (False, True)\n",
      "input: (True, False, True), output: (True, False)\n",
      "input: (True, True, False), output: (True, False)\n",
      "input: (True, True, True), output: (True, True)\n",
      "## checking the reversibility of full_adder\n",
      "number of possible input: 8\n",
      "number of possible output: 4\n",
      "It is irreversible\n"
     ]
    }
   ],
   "source": [
    "# 3-2 답안\n",
    "def full_adder(a: bool, b: bool, c: bool) -> typing.Tuple[bool]:\n",
    "    carry = ((not a) and b and c) or (a and (not b) and c) or (a and b and (not c)) or  (a and b and c)\n",
    "    output = ((not a) and (not b) and c) or ((not a) and b and (not c)) or (a and (not b) and (not c)) or  (a and b and c)\n",
    "    return (carry, output)\n",
    "\n",
    "generate_truth_table(3, full_adder)\n",
    "is_reversible(3, full_adder)"
   ]
  },
  {
   "cell_type": "markdown",
   "metadata": {
    "id": "kgcQhZdY2Alj"
   },
   "source": [
    "4. Full adder와 half adder를 이용하여 두 자리 2진수의 덧셈을 구현해 봅시다. 다음 함수가 도움이 될겁니다."
   ]
  },
  {
   "cell_type": "code",
   "execution_count": 10,
   "metadata": {
    "id": "dRWDmrgr2JR7"
   },
   "outputs": [],
   "source": [
    "\n",
    "def bool_to_int(bools: typing.Tuple[bool]) -> int:\n",
    "    output = 0\n",
    "    length = len(bools)\n",
    "    for bool in bools:\n",
    "        length -= 1\n",
    "        output += 1<<length if bool else 0\n",
    "    return output\n",
    "\n",
    "def int_to_bool(num : int) -> typing.Tuple[bool]:\n",
    "    output = tuple()\n",
    "    while True:\n",
    "        output = (True if num%2 else False,) + output\n",
    "        num = num // 2\n",
    "        if num < 1:\n",
    "            return output\n",
    "\n",
    "def int_to_bool(num : int, digit : int = 2) -> typing.Tuple[bool]:\n",
    "    output = tuple()\n",
    "    while True:\n",
    "        output = (True if num%2 else False,) + output\n",
    "        num = num // 2\n",
    "        if num < 1:\n",
    "            if len(output) < digit:\n",
    "                output = (False,) + output\n",
    "            return output"
   ]
  },
  {
   "cell_type": "code",
   "execution_count": 11,
   "metadata": {
    "id": "nC-zQ2vB2Xd8"
   },
   "outputs": [],
   "source": [
    "# 4 답안\n",
    "def your_adder(num_a : int, num_b :int) -> int:\n",
    "    a = int_to_bool(num_a)\n",
    "    b = int_to_bool(num_b)\n",
    "    (carry1, output1) = half_adder(a[1], b[1])\n",
    "    (carry2, output2) = full_adder(a[0], b[0], carry1)\n",
    "    result = (carry2, output2, output1)\n",
    "    return bool_to_int(result)\n",
    "\n"
   ]
  },
  {
   "cell_type": "code",
   "execution_count": 12,
   "metadata": {
    "id": "JOjweADf51Mh"
   },
   "outputs": [
    {
     "name": "stdout",
     "output_type": "stream",
     "text": [
      "0+0 = 0\n",
      "0+1 = 1\n",
      "0+2 = 2\n",
      "1+0 = 1\n",
      "1+1 = 2\n",
      "1+2 = 3\n",
      "2+0 = 2\n",
      "2+1 = 3\n",
      "2+2 = 4\n"
     ]
    }
   ],
   "source": [
    "# verifyer\n",
    "for i in range(3):\n",
    "    for j in range(3):\n",
    "        your_answer = your_adder(i, j)\n",
    "        print(f\"{i}+{j} = {your_answer}\")\n",
    "    if not your_answer == i+j:\n",
    "      print(\"This is wrong!\")"
   ]
  },
  {
   "cell_type": "markdown",
   "metadata": {
    "id": "NkOtD9gB6gqr"
   },
   "source": [
    "도전문제 1. 임의 N자리 수의 덧셈을 구현하려면 어떻게 할 수 있을까요? 적절한 loop를 생각해봅시다."
   ]
  },
  {
   "cell_type": "code",
   "execution_count": 89,
   "metadata": {
    "id": "X_BVd-s46nn8"
   },
   "outputs": [],
   "source": [
    "# 도전문제 1 답안\n",
    "def your_complete_adder(num_a: int, num_b: int) -> int:\n",
    "    a = list(int_to_bool(num_a))\n",
    "    b = list(int_to_bool(num_b))\n",
    "    length_a = len(a)\n",
    "    length_b = len(b)\n",
    "    length = max(length_a,length_b)\n",
    "    for i in range (length - length_a):\n",
    "        a.insert(0,False)\n",
    "    for j in range (length - length_b):\n",
    "        b.insert(0,False)\n",
    "    result = []\n",
    "    #loop\n",
    "    (carry, output1) = half_adder(a[-1], b[-1])\n",
    "    result.append(output1)\n",
    "    for k in range(length)[1:]:\n",
    "        (carry, output_n) = full_adder(a[length-k-1], b[length-k-1], carry)\n",
    "        result.insert(0,output_n)\n",
    "    result.insert(0,carry)\n",
    "    return bool_to_int(tuple(result))\n",
    "    \n",
    "    \n",
    "\n",
    "# try something like 52 + 34!"
   ]
  },
  {
   "cell_type": "code",
   "execution_count": 90,
   "metadata": {},
   "outputs": [
    {
     "data": {
      "text/plain": [
       "6"
      ]
     },
     "execution_count": 90,
     "metadata": {},
     "output_type": "execute_result"
    }
   ],
   "source": [
    "your_complete_adder(4,2)"
   ]
  },
  {
   "cell_type": "markdown",
   "metadata": {
    "id": "h0HbpW2r6nZb"
   },
   "source": []
  },
  {
   "cell_type": "markdown",
   "metadata": {
    "id": "Oc8woHjP1qKI"
   },
   "source": [
    "도전문제 2. full_adder의 reversible한 논리회로를 구현해봅시다. 이를 이용하여 위의 일반적인 adder를 구현해봅시다."
   ]
  },
  {
   "cell_type": "code",
   "execution_count": 91,
   "metadata": {
    "id": "7aYqvkWe10xU"
   },
   "outputs": [
    {
     "name": "stdout",
     "output_type": "stream",
     "text": [
      "Truth table of full_adder_reversible\n",
      "input: (False, False, False, False, False), output: (False, False, False, False, False)\n",
      "input: (False, False, False, False, True), output: (False, False, False, False, True)\n",
      "input: (False, False, False, True, False), output: (False, False, False, True, False)\n",
      "input: (False, False, False, True, True), output: (False, False, False, True, True)\n",
      "input: (False, False, True, False, False), output: (False, False, True, False, True)\n",
      "input: (False, False, True, False, True), output: (False, False, True, False, False)\n",
      "input: (False, False, True, True, False), output: (False, False, True, True, True)\n",
      "input: (False, False, True, True, True), output: (False, False, True, True, False)\n",
      "input: (False, True, False, False, False), output: (False, True, False, False, True)\n",
      "input: (False, True, False, False, True), output: (False, True, False, False, False)\n",
      "input: (False, True, False, True, False), output: (False, True, False, True, True)\n",
      "input: (False, True, False, True, True), output: (False, True, False, True, False)\n",
      "input: (False, True, True, False, False), output: (False, True, True, True, False)\n",
      "input: (False, True, True, False, True), output: (False, True, True, True, True)\n",
      "input: (False, True, True, True, False), output: (False, True, True, False, False)\n",
      "input: (False, True, True, True, True), output: (False, True, True, False, True)\n",
      "input: (True, False, False, False, False), output: (True, False, False, False, True)\n",
      "input: (True, False, False, False, True), output: (True, False, False, False, False)\n",
      "input: (True, False, False, True, False), output: (True, False, False, True, True)\n",
      "input: (True, False, False, True, True), output: (True, False, False, True, False)\n",
      "input: (True, False, True, False, False), output: (True, False, True, True, False)\n",
      "input: (True, False, True, False, True), output: (True, False, True, True, True)\n",
      "input: (True, False, True, True, False), output: (True, False, True, False, False)\n",
      "input: (True, False, True, True, True), output: (True, False, True, False, True)\n",
      "input: (True, True, False, False, False), output: (True, True, False, True, False)\n",
      "input: (True, True, False, False, True), output: (True, True, False, True, True)\n",
      "input: (True, True, False, True, False), output: (True, True, False, False, False)\n",
      "input: (True, True, False, True, True), output: (True, True, False, False, True)\n",
      "input: (True, True, True, False, False), output: (True, True, True, True, True)\n",
      "input: (True, True, True, False, True), output: (True, True, True, True, False)\n",
      "input: (True, True, True, True, False), output: (True, True, True, False, True)\n",
      "input: (True, True, True, True, True), output: (True, True, True, False, False)\n",
      "## checking the reversibility of full_adder_reversible\n",
      "number of possible input: 32\n",
      "number of possible output: 32\n",
      "It is reversible\n"
     ]
    }
   ],
   "source": [
    "# 도전문제 2 답안\n",
    "def full_adder_reversible(a: bool, b: bool, c: bool, d: bool, e: bool) -> typing.Tuple[bool]:\n",
    "    aone = a\n",
    "    atwo = b\n",
    "    athree = c\n",
    "    afour = (((not a) and b and c) or (a and (not b) and c) or (a and b and (not c)) or  (a and b and c)) != d\n",
    "    afive = (((not a) and (not b) and c) or ((not a) and b and (not c)) or (a and (not b) and (not c)) or  (a and b and c)) != e\n",
    "\n",
    "    return (aone, atwo, athree, afour, afive)\n",
    "    \n",
    "    \n",
    "\n",
    "generate_truth_table(5, full_adder_reversible)\n",
    "is_reversible(5, full_adder_reversible)"
   ]
  },
  {
   "cell_type": "code",
   "execution_count": null,
   "metadata": {},
   "outputs": [],
   "source": []
  }
 ],
 "metadata": {
  "colab": {
   "collapsed_sections": [],
   "name": "Exercise02_Adder.ipynb",
   "provenance": []
  },
  "kernelspec": {
   "display_name": "Python 3",
   "language": "python",
   "name": "python3"
  },
  "language_info": {
   "codemirror_mode": {
    "name": "ipython",
    "version": 3
   },
   "file_extension": ".py",
   "mimetype": "text/x-python",
   "name": "python",
   "nbconvert_exporter": "python",
   "pygments_lexer": "ipython3",
   "version": "3.9.7"
  }
 },
 "nbformat": 4,
 "nbformat_minor": 1
}
